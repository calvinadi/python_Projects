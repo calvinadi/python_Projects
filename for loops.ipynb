{
 "cells": [
  {
   "cell_type": "code",
   "execution_count": 1,
   "id": "cce873ba",
   "metadata": {},
   "outputs": [],
   "source": [
    "integers = [1,2,3,4,5]"
   ]
  },
  {
   "cell_type": "code",
   "execution_count": 2,
   "id": "b6645d7d",
   "metadata": {},
   "outputs": [
    {
     "name": "stdout",
     "output_type": "stream",
     "text": [
      "1\n",
      "2\n",
      "3\n",
      "4\n",
      "5\n"
     ]
    }
   ],
   "source": [
    "for number in integers:\n",
    "    print(number)"
   ]
  },
  {
   "cell_type": "code",
   "execution_count": 3,
   "id": "f716e29d",
   "metadata": {},
   "outputs": [
    {
     "name": "stdout",
     "output_type": "stream",
     "text": [
      "yep\n",
      "yep\n",
      "yep\n",
      "yep\n",
      "yep\n"
     ]
    }
   ],
   "source": [
    "for number in integers:\n",
    "    print(\"yep\")"
   ]
  },
  {
   "cell_type": "code",
   "execution_count": 4,
   "id": "69672e8e",
   "metadata": {},
   "outputs": [],
   "source": [
    "ice_cream_dict = {'name':'alex','weekly intake':5,'favorite ice cream':['mint','chocolate']}"
   ]
  },
  {
   "cell_type": "code",
   "execution_count": 5,
   "id": "89514bee",
   "metadata": {},
   "outputs": [
    {
     "name": "stdout",
     "output_type": "stream",
     "text": [
      "alex\n",
      "5\n",
      "['mint', 'chocolate']\n"
     ]
    }
   ],
   "source": [
    "for cream in ice_cream_dict.values():\n",
    "    print(cream)"
   ]
  },
  {
   "cell_type": "code",
   "execution_count": 6,
   "id": "5a9dae42",
   "metadata": {},
   "outputs": [
    {
     "name": "stdout",
     "output_type": "stream",
     "text": [
      "('name', 'alex')\n",
      "('weekly intake', 5)\n",
      "('favorite ice cream', ['mint', 'chocolate'])\n"
     ]
    }
   ],
   "source": [
    "for cream in ice_cream_dict.items():\n",
    "    print(cream)"
   ]
  },
  {
   "cell_type": "code",
   "execution_count": 7,
   "id": "1a880994",
   "metadata": {},
   "outputs": [
    {
     "name": "stdout",
     "output_type": "stream",
     "text": [
      "name -> alex\n",
      "weekly intake -> 5\n",
      "favorite ice cream -> ['mint', 'chocolate']\n"
     ]
    }
   ],
   "source": [
    "for key,value in ice_cream_dict.items():\n",
    "    print(key, \"->\", value)"
   ]
  },
  {
   "cell_type": "code",
   "execution_count": null,
   "id": "da9fc907",
   "metadata": {},
   "outputs": [],
   "source": []
  },
  {
   "cell_type": "markdown",
   "id": "3dd754f2",
   "metadata": {},
   "source": [
    "# nested for loops"
   ]
  },
  {
   "cell_type": "code",
   "execution_count": 8,
   "id": "8a63c0c6",
   "metadata": {},
   "outputs": [],
   "source": [
    "flavors = ['vanilla','chocolate','cookie']\n",
    "toppings = ['oreos','marshmellow','candy']"
   ]
  },
  {
   "cell_type": "code",
   "execution_count": 9,
   "id": "e2755a29",
   "metadata": {},
   "outputs": [
    {
     "name": "stdout",
     "output_type": "stream",
     "text": [
      "vanilla with oreos\n",
      "vanilla with marshmellow\n",
      "vanilla with candy\n",
      "chocolate with oreos\n",
      "chocolate with marshmellow\n",
      "chocolate with candy\n",
      "cookie with oreos\n",
      "cookie with marshmellow\n",
      "cookie with candy\n"
     ]
    }
   ],
   "source": [
    "for one in flavors:\n",
    "    for two in toppings:\n",
    "        print(one, 'with', two)"
   ]
  },
  {
   "cell_type": "code",
   "execution_count": null,
   "id": "62d785a7",
   "metadata": {},
   "outputs": [],
   "source": []
  }
 ],
 "metadata": {
  "kernelspec": {
   "display_name": "Python 3 (ipykernel)",
   "language": "python",
   "name": "python3"
  },
  "language_info": {
   "codemirror_mode": {
    "name": "ipython",
    "version": 3
   },
   "file_extension": ".py",
   "mimetype": "text/x-python",
   "name": "python",
   "nbconvert_exporter": "python",
   "pygments_lexer": "ipython3",
   "version": "3.11.5"
  }
 },
 "nbformat": 4,
 "nbformat_minor": 5
}
