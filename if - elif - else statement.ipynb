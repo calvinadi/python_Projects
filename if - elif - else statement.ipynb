{
 "cells": [
  {
   "cell_type": "markdown",
   "id": "844387fb",
   "metadata": {},
   "source": [
    "# If - Elif - Else statement"
   ]
  },
  {
   "cell_type": "code",
   "execution_count": 1,
   "id": "719e131e",
   "metadata": {},
   "outputs": [
    {
     "name": "stdout",
     "output_type": "stream",
     "text": [
      "25 greater than 10\n"
     ]
    }
   ],
   "source": [
    "if 25>10:\n",
    "    print(\"25 greater than 10\")"
   ]
  },
  {
   "cell_type": "code",
   "execution_count": 4,
   "id": "b511666b",
   "metadata": {},
   "outputs": [
    {
     "name": "stdout",
     "output_type": "stream",
     "text": [
      "its the opposite\n"
     ]
    }
   ],
   "source": [
    "if 25<10:\n",
    "    print(\"25 greater than 10\")\n",
    "else: \n",
    "    print(\"its the opposite\")"
   ]
  },
  {
   "cell_type": "code",
   "execution_count": 5,
   "id": "ff55a209",
   "metadata": {},
   "outputs": [
    {
     "name": "stdout",
     "output_type": "stream",
     "text": [
      "its true\n"
     ]
    }
   ],
   "source": [
    "if 25<10:\n",
    "    print(\"25 greater than 10\")\n",
    "elif 25<30:\n",
    "    print(\"its true\")\n",
    "else: \n",
    "    print(\"its the opposite\")"
   ]
  },
  {
   "cell_type": "code",
   "execution_count": 7,
   "id": "28502369",
   "metadata": {},
   "outputs": [
    {
     "name": "stdout",
     "output_type": "stream",
     "text": [
      "its true\n"
     ]
    }
   ],
   "source": [
    "if 25<10:\n",
    "    print(\"25 greater than 10\")\n",
    "elif 25<30:\n",
    "    print(\"its true\")\n",
    "elif 25<40:\n",
    "    print(\"its true 2\")    \n",
    "else: \n",
    "    print(\"its the opposite\")"
   ]
  },
  {
   "cell_type": "code",
   "execution_count": 8,
   "id": "a5ccc328",
   "metadata": {},
   "outputs": [
    {
     "name": "stdout",
     "output_type": "stream",
     "text": [
      "testing\n"
     ]
    }
   ],
   "source": [
    "if (25<10) or (1<3):\n",
    "    print(\"testing\")"
   ]
  },
  {
   "cell_type": "code",
   "execution_count": 9,
   "id": "a46b4183",
   "metadata": {},
   "outputs": [
    {
     "name": "stdout",
     "output_type": "stream",
     "text": [
      "it didnt work\n"
     ]
    }
   ],
   "source": [
    "print(\"it works\") if 10>30 else print(\"it didnt work\")"
   ]
  },
  {
   "cell_type": "code",
   "execution_count": 15,
   "id": "64597d1b",
   "metadata": {},
   "outputs": [
    {
     "name": "stdout",
     "output_type": "stream",
     "text": [
      "25 greater than 10\n",
      "nested if\n"
     ]
    }
   ],
   "source": [
    "if 25>10:\n",
    "    print(\"25 greater than 10\")\n",
    "    if 5<10:\n",
    "        print(\"nested if\")\n",
    "        \n",
    "elif 25>30:\n",
    "    print(\"its true\")\n",
    "elif 25<40:\n",
    "    print(\"its true 2\")    \n",
    "else: \n",
    "    print(\"its the opposite\")"
   ]
  },
  {
   "cell_type": "code",
   "execution_count": null,
   "id": "a6219755",
   "metadata": {},
   "outputs": [],
   "source": []
  }
 ],
 "metadata": {
  "kernelspec": {
   "display_name": "Python 3 (ipykernel)",
   "language": "python",
   "name": "python3"
  },
  "language_info": {
   "codemirror_mode": {
    "name": "ipython",
    "version": 3
   },
   "file_extension": ".py",
   "mimetype": "text/x-python",
   "name": "python",
   "nbconvert_exporter": "python",
   "pygments_lexer": "ipython3",
   "version": "3.11.5"
  }
 },
 "nbformat": 4,
 "nbformat_minor": 5
}
