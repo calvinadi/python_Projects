{
 "cells": [
  {
   "cell_type": "markdown",
   "id": "d2c48b46",
   "metadata": {},
   "source": [
    "https://www.cdc.gov/healthyweight/assessing/bmi/adult_bmi/metric_bmi_calculator/bmi_calculator.html\n",
    "\n",
    "https://www.cdc.gov/healthyweight/assessing/bmi/adult_bmi/index.html#Used"
   ]
  },
  {
   "cell_type": "code",
   "execution_count": 18,
   "id": "fcf37f6b",
   "metadata": {},
   "outputs": [
    {
     "name": "stdout",
     "output_type": "stream",
     "text": [
      "Enter you name: Alex\n",
      "Enter your weight in pounds: 150\n",
      "Enter your height in inches: 70\n"
     ]
    }
   ],
   "source": [
    "name = input(\"Enter you name: \")\n",
    "\n",
    "weight = int(input(\"Enter your weight in pounds: \"))\n",
    "\n",
    "height = int(input(\"Enter your height in inches: \"))\n",
    "\n",
    "BMI = (weight * 703) / (height * height)"
   ]
  },
  {
   "cell_type": "code",
   "execution_count": 10,
   "id": "000ea72a",
   "metadata": {},
   "outputs": [
    {
     "name": "stdout",
     "output_type": "stream",
     "text": [
      "150\n",
      "70\n"
     ]
    },
    {
     "data": {
      "text/plain": [
       "int"
      ]
     },
     "execution_count": 10,
     "metadata": {},
     "output_type": "execute_result"
    }
   ],
   "source": [
    "print(weight)\n",
    "\n",
    "print(height)\n",
    "\n",
    "type(height)"
   ]
  },
  {
   "cell_type": "code",
   "execution_count": 13,
   "id": "56d3b03d",
   "metadata": {},
   "outputs": [
    {
     "name": "stdout",
     "output_type": "stream",
     "text": [
      "21.520408163265305\n"
     ]
    }
   ],
   "source": [
    "print(BMI)"
   ]
  },
  {
   "cell_type": "markdown",
   "id": "5c02f249",
   "metadata": {},
   "source": [
    "The standard weight status categories associated with BMI ranges for adults are shown in the following table.\n",
    "Below 18.5\tUnderweight\tMinimal\n",
    "18.5 – 24.9\tHealthy Weight\tMinimal\n",
    "25.0 – 29.9\tOverweight\tIncreased\n",
    "30.0 and Above\tObesity\tHigh"
   ]
  },
  {
   "cell_type": "code",
   "execution_count": 21,
   "id": "44b6ebfd",
   "metadata": {},
   "outputs": [
    {
     "name": "stdout",
     "output_type": "stream",
     "text": [
      "Alex, You have healty weight\n"
     ]
    }
   ],
   "source": [
    "name = input(\"Enter you name: \")\n",
    "\n",
    "weight = int(input(\"Enter your weight in pounds: \"))\n",
    "\n",
    "height = int(input(\"Enter your height in inches: \"))\n",
    "\n",
    "BMI = (weight * 703) / (height * height)\n",
    "\n",
    "if BMI>0:\n",
    "    if(BMI < 18.5):\n",
    "        print(name + \", You are underweight.\")\n",
    "    elif(BMI < 25):\n",
    "        print(name + \", You have healty weight.\")\n",
    "    elif(BMI < 30):\n",
    "        print(name + \", You are overweight.\")\n",
    "    elif(BMI >= 30):\n",
    "        print(name + \", You are obese.\")\n",
    "    else:\n",
    "        print(\"Enter valid input.\")"
   ]
  },
  {
   "cell_type": "code",
   "execution_count": null,
   "id": "fb741583",
   "metadata": {},
   "outputs": [],
   "source": []
  },
  {
   "cell_type": "code",
   "execution_count": 24,
   "id": "7540d117",
   "metadata": {},
   "outputs": [
    {
     "name": "stdout",
     "output_type": "stream",
     "text": [
      "Enter you name: alex\n",
      "Type 1 for Kilograms and centimeters\n",
      "Type 2 for Pounds and inches1\n",
      "Enter your weight in kilograms: 55\n",
      "Enter your height in centimeters: 155\n",
      "alex, You have healty weight.\n"
     ]
    }
   ],
   "source": [
    "name = input(\"Enter you name: \")\n",
    "\n",
    "while True:\n",
    "    try:\n",
    "        measurement_units = int(input(\"Type 1 for Kilograms and centimeters, Type 2 for Pounds and inches: \"))\n",
    "        if measurement_units in (1, 2):\n",
    "            break\n",
    "        else:\n",
    "            print(\"Invalid input. Please enter 1 or 2.\")\n",
    "    except ValueError:\n",
    "        print(\"Invalid input. Please enter a valid number.\")\n",
    "        \n",
    "if measurement_units == 1:\n",
    "    weight_kg = int(input(\"Enter your weight in kilograms: \"))\n",
    "    height_cm = int(input(\"Enter your height in centimeters: \"))\n",
    "    BMI = weight_kg / ((height_cm/100) * (height_cm/100))\n",
    "elif measurement_units == 2:\n",
    "    weight_pounds = int(input(\"Enter your weight in pounds: \"))\n",
    "    height_inches = int(input(\"Enter your height in inches: \"))\n",
    "    BMI= (weight_pounds * 703) / (height_inches * height_inches)\n",
    "    \n",
    "if BMI>0:\n",
    "    if(BMI < 18.5):\n",
    "        print(name + \", You are underweight.\")\n",
    "    elif(BMI < 25):\n",
    "        print(name + \", You have healty weight.\")\n",
    "    elif(BMI < 30):\n",
    "        print(name + \", You are overweight.\")\n",
    "    elif(BMI >= 30):\n",
    "        print(name + \", You are obese.\")\n",
    "    else:\n",
    "        print(\"Enter valid input.\")\n",
    "\n"
   ]
  },
  {
   "cell_type": "code",
   "execution_count": null,
   "id": "48499640",
   "metadata": {},
   "outputs": [],
   "source": []
  },
  {
   "cell_type": "code",
   "execution_count": null,
   "id": "8b66fd29",
   "metadata": {},
   "outputs": [],
   "source": []
  }
 ],
 "metadata": {
  "kernelspec": {
   "display_name": "Python 3 (ipykernel)",
   "language": "python",
   "name": "python3"
  },
  "language_info": {
   "codemirror_mode": {
    "name": "ipython",
    "version": 3
   },
   "file_extension": ".py",
   "mimetype": "text/x-python",
   "name": "python",
   "nbconvert_exporter": "python",
   "pygments_lexer": "ipython3",
   "version": "3.11.5"
  }
 },
 "nbformat": 4,
 "nbformat_minor": 5
}
