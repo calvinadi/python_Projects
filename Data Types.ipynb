{
 "cells": [
  {
   "cell_type": "markdown",
   "id": "c543366e",
   "metadata": {},
   "source": [
    "# Data Types"
   ]
  },
  {
   "cell_type": "code",
   "execution_count": 1,
   "id": "df565f7e",
   "metadata": {},
   "outputs": [
    {
     "data": {
      "text/plain": [
       "int"
      ]
     },
     "execution_count": 1,
     "metadata": {},
     "output_type": "execute_result"
    }
   ],
   "source": [
    "type(55)"
   ]
  },
  {
   "cell_type": "code",
   "execution_count": 2,
   "id": "488634ab",
   "metadata": {},
   "outputs": [
    {
     "data": {
      "text/plain": [
       "float"
      ]
     },
     "execution_count": 2,
     "metadata": {},
     "output_type": "execute_result"
    }
   ],
   "source": [
    "type(5.5)"
   ]
  },
  {
   "cell_type": "code",
   "execution_count": 5,
   "id": "25c686db",
   "metadata": {},
   "outputs": [
    {
     "data": {
      "text/plain": [
       "complex"
      ]
     },
     "execution_count": 5,
     "metadata": {},
     "output_type": "execute_result"
    }
   ],
   "source": [
    "type(12+3j)\n",
    "#cuma bisa pakai j (sebagai imaginary number)"
   ]
  },
  {
   "cell_type": "code",
   "execution_count": 9,
   "id": "be79dcfc",
   "metadata": {},
   "outputs": [
    {
     "data": {
      "text/plain": [
       "bool"
      ]
     },
     "execution_count": 9,
     "metadata": {},
     "output_type": "execute_result"
    }
   ],
   "source": [
    "#boolean\n",
    "\n",
    "type(False)"
   ]
  },
  {
   "cell_type": "code",
   "execution_count": 10,
   "id": "1fb8c7f7",
   "metadata": {},
   "outputs": [
    {
     "data": {
      "text/plain": [
       "bool"
      ]
     },
     "execution_count": 10,
     "metadata": {},
     "output_type": "execute_result"
    }
   ],
   "source": [
    "type(1>3)"
   ]
  },
  {
   "cell_type": "code",
   "execution_count": 11,
   "id": "1ef83cb5",
   "metadata": {},
   "outputs": [
    {
     "data": {
      "text/plain": [
       "False"
      ]
     },
     "execution_count": 11,
     "metadata": {},
     "output_type": "execute_result"
    }
   ],
   "source": [
    "1>3"
   ]
  },
  {
   "cell_type": "code",
   "execution_count": 12,
   "id": "5079061d",
   "metadata": {},
   "outputs": [
    {
     "data": {
      "text/plain": [
       "'single quote'"
      ]
     },
     "execution_count": 12,
     "metadata": {},
     "output_type": "execute_result"
    }
   ],
   "source": [
    "#strings\n",
    "\n",
    "'single quote'"
   ]
  },
  {
   "cell_type": "code",
   "execution_count": 13,
   "id": "8ae8b9a8",
   "metadata": {},
   "outputs": [
    {
     "data": {
      "text/plain": [
       "'double quote'"
      ]
     },
     "execution_count": 13,
     "metadata": {},
     "output_type": "execute_result"
    }
   ],
   "source": [
    "\"double quote\""
   ]
  },
  {
   "cell_type": "code",
   "execution_count": 14,
   "id": "af28bb8c",
   "metadata": {},
   "outputs": [
    {
     "data": {
      "text/plain": [
       "'\\ntes1\\ntes2\\ntes3\\ntes4\\n'"
      ]
     },
     "execution_count": 14,
     "metadata": {},
     "output_type": "execute_result"
    }
   ],
   "source": [
    "\"\"\"\n",
    "tes1\n",
    "tes2\n",
    "tes3\n",
    "tes4\n",
    "\"\"\""
   ]
  },
  {
   "cell_type": "code",
   "execution_count": 15,
   "id": "ff728d20",
   "metadata": {},
   "outputs": [],
   "source": [
    "a = 'hello world!'"
   ]
  },
  {
   "cell_type": "code",
   "execution_count": 16,
   "id": "b65d1ed9",
   "metadata": {},
   "outputs": [
    {
     "name": "stdout",
     "output_type": "stream",
     "text": [
      "hello\n"
     ]
    }
   ],
   "source": [
    "print(a[:5])"
   ]
  },
  {
   "cell_type": "code",
   "execution_count": 17,
   "id": "cb400800",
   "metadata": {},
   "outputs": [
    {
     "name": "stdout",
     "output_type": "stream",
     "text": [
      " world!\n"
     ]
    }
   ],
   "source": [
    "print(a[5:])"
   ]
  },
  {
   "cell_type": "code",
   "execution_count": 18,
   "id": "66e48c3a",
   "metadata": {},
   "outputs": [
    {
     "name": "stdout",
     "output_type": "stream",
     "text": [
      "llo\n"
     ]
    }
   ],
   "source": [
    "print(a[2:5])"
   ]
  },
  {
   "cell_type": "code",
   "execution_count": 19,
   "id": "18b0c197",
   "metadata": {},
   "outputs": [
    {
     "data": {
      "text/plain": [
       "[1, 2, 3]"
      ]
     },
     "execution_count": 19,
     "metadata": {},
     "output_type": "execute_result"
    }
   ],
   "source": [
    "# list\n",
    "\n",
    "[1,2,3]"
   ]
  },
  {
   "cell_type": "code",
   "execution_count": 20,
   "id": "26be0044",
   "metadata": {},
   "outputs": [
    {
     "data": {
      "text/plain": [
       "['Cookie Dough', 'Strawberry', 'Chocolate']"
      ]
     },
     "execution_count": 20,
     "metadata": {},
     "output_type": "execute_result"
    }
   ],
   "source": [
    "[\"Cookie Dough\",\"Strawberry\",\"Chocolate\"]"
   ]
  },
  {
   "cell_type": "code",
   "execution_count": 21,
   "id": "b97dda54",
   "metadata": {},
   "outputs": [
    {
     "data": {
      "text/plain": [
       "['Vanilla', 3, ['Spoon', 'Scoop'], True]"
      ]
     },
     "execution_count": 21,
     "metadata": {},
     "output_type": "execute_result"
    }
   ],
   "source": [
    "[\"Vanilla\",3,[\"Spoon\",\"Scoop\"],True]"
   ]
  },
  {
   "cell_type": "code",
   "execution_count": 22,
   "id": "669d6792",
   "metadata": {},
   "outputs": [],
   "source": [
    "ice_cream = [\"Cookie Dough\",\"Strawberry\",\"Chocolate\"]\n",
    "\n",
    "ice_cream.append(\"Salted Caramel\")"
   ]
  },
  {
   "cell_type": "code",
   "execution_count": 23,
   "id": "a653b05d",
   "metadata": {},
   "outputs": [
    {
     "data": {
      "text/plain": [
       "['Cookie Dough', 'Strawberry', 'Chocolate', 'Salted Caramel']"
      ]
     },
     "execution_count": 23,
     "metadata": {},
     "output_type": "execute_result"
    }
   ],
   "source": [
    "ice_cream"
   ]
  },
  {
   "cell_type": "code",
   "execution_count": 24,
   "id": "33385f49",
   "metadata": {},
   "outputs": [
    {
     "data": {
      "text/plain": [
       "'Cookie Dough'"
      ]
     },
     "execution_count": 24,
     "metadata": {},
     "output_type": "execute_result"
    }
   ],
   "source": [
    "ice_cream[0]"
   ]
  },
  {
   "cell_type": "code",
   "execution_count": 25,
   "id": "bfb291bb",
   "metadata": {},
   "outputs": [
    {
     "data": {
      "text/plain": [
       "['Butter', 'Strawberry', 'Chocolate', 'Salted Caramel']"
      ]
     },
     "execution_count": 25,
     "metadata": {},
     "output_type": "execute_result"
    }
   ],
   "source": [
    "ice_cream[0] = \"Butter\"\n",
    "ice_cream"
   ]
  },
  {
   "cell_type": "code",
   "execution_count": 26,
   "id": "c9735e50",
   "metadata": {},
   "outputs": [],
   "source": [
    "nested_list = [\"Vanilla\",3,[\"Spoon\",\"Scoop\"],True]"
   ]
  },
  {
   "cell_type": "code",
   "execution_count": 27,
   "id": "864fb951",
   "metadata": {},
   "outputs": [
    {
     "data": {
      "text/plain": [
       "['Spoon', 'Scoop']"
      ]
     },
     "execution_count": 27,
     "metadata": {},
     "output_type": "execute_result"
    }
   ],
   "source": [
    "nested_list[2]"
   ]
  },
  {
   "cell_type": "code",
   "execution_count": 28,
   "id": "50b61056",
   "metadata": {},
   "outputs": [
    {
     "data": {
      "text/plain": [
       "'Spoon'"
      ]
     },
     "execution_count": 28,
     "metadata": {},
     "output_type": "execute_result"
    }
   ],
   "source": [
    "nested_list[2][0]"
   ]
  },
  {
   "cell_type": "code",
   "execution_count": null,
   "id": "93dd828f",
   "metadata": {},
   "outputs": [],
   "source": []
  },
  {
   "cell_type": "code",
   "execution_count": 29,
   "id": "803a976f",
   "metadata": {},
   "outputs": [],
   "source": [
    "# tuple (immutable list)\n",
    "\n",
    "tuple_scoops = (1,2,3,2,1)"
   ]
  },
  {
   "cell_type": "code",
   "execution_count": 30,
   "id": "fa706a56",
   "metadata": {},
   "outputs": [
    {
     "data": {
      "text/plain": [
       "tuple"
      ]
     },
     "execution_count": 30,
     "metadata": {},
     "output_type": "execute_result"
    }
   ],
   "source": [
    "type(tuple_scoops)"
   ]
  },
  {
   "cell_type": "code",
   "execution_count": 31,
   "id": "9f6a917e",
   "metadata": {},
   "outputs": [
    {
     "data": {
      "text/plain": [
       "1"
      ]
     },
     "execution_count": 31,
     "metadata": {},
     "output_type": "execute_result"
    }
   ],
   "source": [
    "tuple_scoops[0]"
   ]
  },
  {
   "cell_type": "code",
   "execution_count": 32,
   "id": "b25f2f8d",
   "metadata": {},
   "outputs": [
    {
     "ename": "AttributeError",
     "evalue": "'tuple' object has no attribute 'append'",
     "output_type": "error",
     "traceback": [
      "\u001b[1;31m---------------------------------------------------------------------------\u001b[0m",
      "\u001b[1;31mAttributeError\u001b[0m                            Traceback (most recent call last)",
      "Cell \u001b[1;32mIn[32], line 1\u001b[0m\n\u001b[1;32m----> 1\u001b[0m tuple_scoops\u001b[38;5;241m.\u001b[39mappend(\u001b[38;5;241m5\u001b[39m)\n",
      "\u001b[1;31mAttributeError\u001b[0m: 'tuple' object has no attribute 'append'"
     ]
    }
   ],
   "source": [
    "tuple_scoops.append(5)"
   ]
  },
  {
   "cell_type": "code",
   "execution_count": 33,
   "id": "f6c87f1a",
   "metadata": {},
   "outputs": [],
   "source": [
    "# sets (list but no duplicate)\n",
    "\n",
    "daily_pints = {1,3,2,2,1}"
   ]
  },
  {
   "cell_type": "code",
   "execution_count": 34,
   "id": "b3ff3293",
   "metadata": {},
   "outputs": [
    {
     "data": {
      "text/plain": [
       "set"
      ]
     },
     "execution_count": 34,
     "metadata": {},
     "output_type": "execute_result"
    }
   ],
   "source": [
    "type(daily_pints)"
   ]
  },
  {
   "cell_type": "code",
   "execution_count": 35,
   "id": "86ff5d95",
   "metadata": {},
   "outputs": [
    {
     "data": {
      "text/plain": [
       "{1, 2, 3}"
      ]
     },
     "execution_count": 35,
     "metadata": {},
     "output_type": "execute_result"
    }
   ],
   "source": [
    "daily_pints"
   ]
  },
  {
   "cell_type": "code",
   "execution_count": 36,
   "id": "87e2454f",
   "metadata": {},
   "outputs": [],
   "source": [
    "wifes_daily_logs = {5,2,1,4,61,2,2,1,1,2,3,4}"
   ]
  },
  {
   "cell_type": "code",
   "execution_count": 39,
   "id": "41930061",
   "metadata": {},
   "outputs": [
    {
     "name": "stdout",
     "output_type": "stream",
     "text": [
      "{1, 2, 3, 4, 5, 61}\n"
     ]
    }
   ],
   "source": [
    "print(wifes_daily_logs | daily_pints)\n",
    "\n",
    "#combine"
   ]
  },
  {
   "cell_type": "code",
   "execution_count": 40,
   "id": "ef91c71d",
   "metadata": {},
   "outputs": [
    {
     "name": "stdout",
     "output_type": "stream",
     "text": [
      "{1, 2, 3}\n"
     ]
    }
   ],
   "source": [
    "print(wifes_daily_logs & daily_pints)\n",
    "\n",
    "#match"
   ]
  },
  {
   "cell_type": "code",
   "execution_count": 41,
   "id": "4f197dcb",
   "metadata": {},
   "outputs": [
    {
     "name": "stdout",
     "output_type": "stream",
     "text": [
      "{61, 4, 5}\n"
     ]
    }
   ],
   "source": [
    "print(wifes_daily_logs - daily_pints)\n",
    "\n",
    "#not match"
   ]
  },
  {
   "cell_type": "code",
   "execution_count": 43,
   "id": "8be95e0f",
   "metadata": {},
   "outputs": [
    {
     "name": "stdout",
     "output_type": "stream",
     "text": [
      "{4, 5, 61}\n"
     ]
    }
   ],
   "source": [
    "print(wifes_daily_logs ^ daily_pints)\n",
    "\n",
    "#unique only in both sets (not in other set)"
   ]
  },
  {
   "cell_type": "code",
   "execution_count": null,
   "id": "9e9de523",
   "metadata": {},
   "outputs": [],
   "source": []
  },
  {
   "cell_type": "code",
   "execution_count": 45,
   "id": "31fb33e2",
   "metadata": {},
   "outputs": [],
   "source": [
    "#dictionary\n",
    "\n",
    "dict_cream = {\"name\":\"alex\",\"weekly intake\":5,\"favorite ice cream\":[\"mint\",\"chocolate\",\"vanilla\"]}"
   ]
  },
  {
   "cell_type": "code",
   "execution_count": 46,
   "id": "0b064c54",
   "metadata": {},
   "outputs": [
    {
     "data": {
      "text/plain": [
       "dict"
      ]
     },
     "execution_count": 46,
     "metadata": {},
     "output_type": "execute_result"
    }
   ],
   "source": [
    "type(dict_cream)"
   ]
  },
  {
   "cell_type": "code",
   "execution_count": 47,
   "id": "b6771054",
   "metadata": {},
   "outputs": [
    {
     "data": {
      "text/plain": [
       "{'name': 'alex',\n",
       " 'weekly intake': 5,\n",
       " 'favorite ice cream': ['mint', 'chocolate', 'vanilla']}"
      ]
     },
     "execution_count": 47,
     "metadata": {},
     "output_type": "execute_result"
    }
   ],
   "source": [
    "dict_cream"
   ]
  },
  {
   "cell_type": "code",
   "execution_count": 48,
   "id": "b6f23a02",
   "metadata": {},
   "outputs": [
    {
     "data": {
      "text/plain": [
       "dict_values(['alex', 5, ['mint', 'chocolate', 'vanilla']])"
      ]
     },
     "execution_count": 48,
     "metadata": {},
     "output_type": "execute_result"
    }
   ],
   "source": [
    "dict_cream.values()"
   ]
  },
  {
   "cell_type": "code",
   "execution_count": 49,
   "id": "00e1fe4b",
   "metadata": {},
   "outputs": [
    {
     "data": {
      "text/plain": [
       "dict_keys(['name', 'weekly intake', 'favorite ice cream'])"
      ]
     },
     "execution_count": 49,
     "metadata": {},
     "output_type": "execute_result"
    }
   ],
   "source": [
    "dict_cream.keys()"
   ]
  },
  {
   "cell_type": "code",
   "execution_count": 50,
   "id": "18135e9b",
   "metadata": {},
   "outputs": [
    {
     "data": {
      "text/plain": [
       "dict_items([('name', 'alex'), ('weekly intake', 5), ('favorite ice cream', ['mint', 'chocolate', 'vanilla'])])"
      ]
     },
     "execution_count": 50,
     "metadata": {},
     "output_type": "execute_result"
    }
   ],
   "source": [
    "dict_cream.items()"
   ]
  },
  {
   "cell_type": "code",
   "execution_count": 58,
   "id": "1ce6c753",
   "metadata": {},
   "outputs": [
    {
     "data": {
      "text/plain": [
       "'alex'"
      ]
     },
     "execution_count": 58,
     "metadata": {},
     "output_type": "execute_result"
    }
   ],
   "source": [
    "dict_cream[\"name\"]"
   ]
  },
  {
   "cell_type": "code",
   "execution_count": 60,
   "id": "1cf72776",
   "metadata": {},
   "outputs": [
    {
     "ename": "KeyError",
     "evalue": "'alex'",
     "output_type": "error",
     "traceback": [
      "\u001b[1;31m---------------------------------------------------------------------------\u001b[0m",
      "\u001b[1;31mKeyError\u001b[0m                                  Traceback (most recent call last)",
      "Cell \u001b[1;32mIn[60], line 1\u001b[0m\n\u001b[1;32m----> 1\u001b[0m dict_cream[\u001b[38;5;124m\"\u001b[39m\u001b[38;5;124malex\u001b[39m\u001b[38;5;124m\"\u001b[39m]\n",
      "\u001b[1;31mKeyError\u001b[0m: 'alex'"
     ]
    }
   ],
   "source": [
    "dict_cream[\"alex\"]"
   ]
  },
  {
   "cell_type": "code",
   "execution_count": 61,
   "id": "d62f7ad0",
   "metadata": {},
   "outputs": [
    {
     "ename": "KeyError",
     "evalue": "0",
     "output_type": "error",
     "traceback": [
      "\u001b[1;31m---------------------------------------------------------------------------\u001b[0m",
      "\u001b[1;31mKeyError\u001b[0m                                  Traceback (most recent call last)",
      "Cell \u001b[1;32mIn[61], line 1\u001b[0m\n\u001b[1;32m----> 1\u001b[0m dict_cream[\u001b[38;5;241m0\u001b[39m]\n",
      "\u001b[1;31mKeyError\u001b[0m: 0"
     ]
    }
   ],
   "source": [
    "dict_cream[0]"
   ]
  },
  {
   "cell_type": "code",
   "execution_count": 62,
   "id": "18b7ac09",
   "metadata": {},
   "outputs": [],
   "source": [
    "dict_cream[\"name\"] = \"Christine\""
   ]
  },
  {
   "cell_type": "code",
   "execution_count": 63,
   "id": "59c293aa",
   "metadata": {},
   "outputs": [
    {
     "data": {
      "text/plain": [
       "{'name': 'Christine',\n",
       " 'weekly intake': 5,\n",
       " 'favorite ice cream': ['mint', 'chocolate', 'vanilla']}"
      ]
     },
     "execution_count": 63,
     "metadata": {},
     "output_type": "execute_result"
    }
   ],
   "source": [
    "dict_cream"
   ]
  },
  {
   "cell_type": "code",
   "execution_count": 64,
   "id": "9f41888b",
   "metadata": {},
   "outputs": [],
   "source": [
    "dict_cream.update({'name': 'Christine',\n",
    " 'weekly intake': 5,\"weight\":25,\n",
    " 'favorite ice cream': ['mint', 'chocolate', 'vanilla']})"
   ]
  },
  {
   "cell_type": "code",
   "execution_count": 66,
   "id": "e0088fa0",
   "metadata": {},
   "outputs": [
    {
     "data": {
      "text/plain": [
       "{'name': 'Christine',\n",
       " 'weekly intake': 5,\n",
       " 'favorite ice cream': ['mint', 'chocolate', 'vanilla'],\n",
       " 'weight': 25}"
      ]
     },
     "execution_count": 66,
     "metadata": {},
     "output_type": "execute_result"
    }
   ],
   "source": [
    "dict_cream"
   ]
  },
  {
   "cell_type": "code",
   "execution_count": 67,
   "id": "9dc90bdf",
   "metadata": {},
   "outputs": [],
   "source": [
    "del dict_cream[\"weight\"]"
   ]
  },
  {
   "cell_type": "code",
   "execution_count": 68,
   "id": "60f97fe1",
   "metadata": {},
   "outputs": [
    {
     "data": {
      "text/plain": [
       "{'name': 'Christine',\n",
       " 'weekly intake': 5,\n",
       " 'favorite ice cream': ['mint', 'chocolate', 'vanilla']}"
      ]
     },
     "execution_count": 68,
     "metadata": {},
     "output_type": "execute_result"
    }
   ],
   "source": [
    "dict_cream"
   ]
  },
  {
   "cell_type": "code",
   "execution_count": 69,
   "id": "9d70635e",
   "metadata": {},
   "outputs": [
    {
     "data": {
      "text/plain": [
       "['mint', 'chocolate', 'vanilla']"
      ]
     },
     "execution_count": 69,
     "metadata": {},
     "output_type": "execute_result"
    }
   ],
   "source": [
    "dict_cream[\"favorite ice cream\"]"
   ]
  },
  {
   "cell_type": "code",
   "execution_count": 70,
   "id": "b7bdc8cc",
   "metadata": {},
   "outputs": [
    {
     "data": {
      "text/plain": [
       "'mint'"
      ]
     },
     "execution_count": 70,
     "metadata": {},
     "output_type": "execute_result"
    }
   ],
   "source": [
    "dict_cream[\"favorite ice cream\"][0]"
   ]
  },
  {
   "cell_type": "code",
   "execution_count": null,
   "id": "fcc97b43",
   "metadata": {},
   "outputs": [],
   "source": []
  }
 ],
 "metadata": {
  "kernelspec": {
   "display_name": "Python 3 (ipykernel)",
   "language": "python",
   "name": "python3"
  },
  "language_info": {
   "codemirror_mode": {
    "name": "ipython",
    "version": 3
   },
   "file_extension": ".py",
   "mimetype": "text/x-python",
   "name": "python",
   "nbconvert_exporter": "python",
   "pygments_lexer": "ipython3",
   "version": "3.11.5"
  }
 },
 "nbformat": 4,
 "nbformat_minor": 5
}
