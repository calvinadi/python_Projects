{
 "cells": [
  {
   "cell_type": "code",
   "execution_count": 1,
   "id": "901705f5",
   "metadata": {},
   "outputs": [],
   "source": [
    "def first_func():\n",
    "    print(\"we try it\")"
   ]
  },
  {
   "cell_type": "code",
   "execution_count": 2,
   "id": "38040b47",
   "metadata": {},
   "outputs": [
    {
     "name": "stdout",
     "output_type": "stream",
     "text": [
      "we try it\n"
     ]
    }
   ],
   "source": [
    "first_func()"
   ]
  },
  {
   "cell_type": "code",
   "execution_count": 4,
   "id": "d6c562e7",
   "metadata": {},
   "outputs": [
    {
     "name": "stdout",
     "output_type": "stream",
     "text": [
      "25\n"
     ]
    }
   ],
   "source": [
    "def number_squared(number):\n",
    "    print(number**2)\n",
    "    \n",
    "number_squared(5)"
   ]
  },
  {
   "cell_type": "code",
   "execution_count": 5,
   "id": "4c2f2ae4",
   "metadata": {},
   "outputs": [
    {
     "name": "stdout",
     "output_type": "stream",
     "text": [
      "3125\n"
     ]
    }
   ],
   "source": [
    "def number_squared_custom(number,power):\n",
    "    print(number**power)\n",
    "    \n",
    "number_squared_custom(5,5)"
   ]
  },
  {
   "cell_type": "code",
   "execution_count": 7,
   "id": "912633be",
   "metadata": {},
   "outputs": [
    {
     "name": "stdout",
     "output_type": "stream",
     "text": [
      "10\n",
      "20\n"
     ]
    }
   ],
   "source": [
    "def number_args(*number):\n",
    "    print(number[0]*number[1])\n",
    "    print(number[0]*number[3])\n",
    "number_args(5,2,3,4,5)"
   ]
  },
  {
   "cell_type": "code",
   "execution_count": 8,
   "id": "01e7f4b5",
   "metadata": {},
   "outputs": [
    {
     "ename": "IndexError",
     "evalue": "tuple index out of range",
     "output_type": "error",
     "traceback": [
      "\u001b[1;31m---------------------------------------------------------------------------\u001b[0m",
      "\u001b[1;31mIndexError\u001b[0m                                Traceback (most recent call last)",
      "Cell \u001b[1;32mIn[8], line 6\u001b[0m\n\u001b[0;32m      4\u001b[0m     \u001b[38;5;28mprint\u001b[39m(number[\u001b[38;5;241m0\u001b[39m]\u001b[38;5;241m*\u001b[39mnumber[\u001b[38;5;241m1\u001b[39m])\n\u001b[0;32m      5\u001b[0m     \u001b[38;5;28mprint\u001b[39m(number[\u001b[38;5;241m0\u001b[39m]\u001b[38;5;241m*\u001b[39mnumber[\u001b[38;5;241m3\u001b[39m])\n\u001b[1;32m----> 6\u001b[0m number_args(args_tuples)\n",
      "Cell \u001b[1;32mIn[8], line 4\u001b[0m, in \u001b[0;36mnumber_args\u001b[1;34m(*number)\u001b[0m\n\u001b[0;32m      3\u001b[0m \u001b[38;5;28;01mdef\u001b[39;00m \u001b[38;5;21mnumber_args\u001b[39m(\u001b[38;5;241m*\u001b[39mnumber):\n\u001b[1;32m----> 4\u001b[0m     \u001b[38;5;28mprint\u001b[39m(number[\u001b[38;5;241m0\u001b[39m]\u001b[38;5;241m*\u001b[39mnumber[\u001b[38;5;241m1\u001b[39m])\n\u001b[0;32m      5\u001b[0m     \u001b[38;5;28mprint\u001b[39m(number[\u001b[38;5;241m0\u001b[39m]\u001b[38;5;241m*\u001b[39mnumber[\u001b[38;5;241m3\u001b[39m])\n",
      "\u001b[1;31mIndexError\u001b[0m: tuple index out of range"
     ]
    }
   ],
   "source": [
    "args_tuples = (5,2,3,4,5)\n",
    "\n",
    "def number_args(*number):\n",
    "    print(number[0]*number[1])\n",
    "    print(number[0]*number[3])\n",
    "number_args(args_tuples)"
   ]
  },
  {
   "cell_type": "code",
   "execution_count": 9,
   "id": "598dbf3b",
   "metadata": {},
   "outputs": [
    {
     "name": "stdout",
     "output_type": "stream",
     "text": [
      "10\n",
      "20\n"
     ]
    }
   ],
   "source": [
    "number_args(*args_tuples)"
   ]
  },
  {
   "cell_type": "code",
   "execution_count": 11,
   "id": "ccd99265",
   "metadata": {},
   "outputs": [
    {
     "name": "stdout",
     "output_type": "stream",
     "text": [
      "243\n"
     ]
    }
   ],
   "source": [
    "def number_squared_custom(number,power):\n",
    "    print(number**power)\n",
    "    \n",
    "number_squared_custom(power = 5, number = 3)"
   ]
  },
  {
   "cell_type": "code",
   "execution_count": 19,
   "id": "f271ca4b",
   "metadata": {},
   "outputs": [
    {
     "name": "stdout",
     "output_type": "stream",
     "text": [
      "the number is 2111 the other number 09720\n"
     ]
    }
   ],
   "source": [
    "#keyword arbitrary arguments, arbitrary artinya tidak diketahui jumlah argumen yg dibutuhkan ke function\n",
    "def number_kwarg(**number):\n",
    "    print('the number is' , number['integer'], 'the other number',number['integer2'] )\n",
    "\n",
    "number_kwarg(integer = '2111', integer2 = '09720')"
   ]
  },
  {
   "cell_type": "code",
   "execution_count": null,
   "id": "c7eae7cb",
   "metadata": {},
   "outputs": [],
   "source": []
  }
 ],
 "metadata": {
  "kernelspec": {
   "display_name": "Python 3 (ipykernel)",
   "language": "python",
   "name": "python3"
  },
  "language_info": {
   "codemirror_mode": {
    "name": "ipython",
    "version": 3
   },
   "file_extension": ".py",
   "mimetype": "text/x-python",
   "name": "python",
   "nbconvert_exporter": "python",
   "pygments_lexer": "ipython3",
   "version": "3.11.5"
  }
 },
 "nbformat": 4,
 "nbformat_minor": 5
}
